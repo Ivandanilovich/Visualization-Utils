{
 "cells": [
  {
   "cell_type": "code",
   "execution_count": null,
   "metadata": {},
   "outputs": [],
   "source": [
    "import numpy as np\n",
    "import einops\n",
    "import matplotlib.pyplot as plt\n",
    "import seaborn\n",
    "import cv2\n",
    "import visualization_utils\n",
    "import torch\n",
    "import pickle\n",
    "import json\n",
    "import plotly.express as px"
   ]
  },
  {
   "cell_type": "code",
   "execution_count": null,
   "metadata": {},
   "outputs": [],
   "source": [
    "from visualization_utils.color import COLOR_PALETTE\n",
    "v = einops.repeat(np.array(COLOR_PALETTE), '(n1 n2) c -> (n1 h) (n2 w) c', h=20, w=20, n1=1)\n",
    "plt.imshow(v)"
   ]
  },
  {
   "cell_type": "code",
   "execution_count": null,
   "metadata": {},
   "outputs": [],
   "source": [
    "skeletons = json.load(open(f'C:/Users/ivand/Desktop/output_temp/default_sc1/skeletons.json','r'))\n",
    "data = pickle.load(open(f'C:/Users/ivand/Desktop/output_temp/default_sc1/tempdata.pickle', 'rb'))\n",
    "image = cv2.imread(f'C:/Users/ivand/Desktop/output_temp/default_sc1/Camera.001_0010.png')\n",
    "\n",
    "data = data[0]"
   ]
  },
  {
   "cell_type": "code",
   "execution_count": null,
   "metadata": {},
   "outputs": [],
   "source": [
    "from visualization_utils.visualization import skeleton_map_to_edges, draw_on_image\n",
    "\n",
    "excluded_bones = ['Bone.012.R.001', 'Bone.012.L.001', 'Bone.008.R.001', 'Bone.008.L.001', 'Bone.020']\n",
    "edges = skeleton_map_to_edges(skeletons['Armature'], excluded_bones)"
   ]
  },
  {
   "cell_type": "code",
   "execution_count": null,
   "metadata": {},
   "outputs": [],
   "source": [
    "sk = np.array([d['sk'] for d in data.values()])"
   ]
  },
  {
   "cell_type": "code",
   "execution_count": null,
   "metadata": {},
   "outputs": [],
   "source": [
    "image = draw_on_image(image, skeletons=sk[:,:,0], edges=edges, skeleton_point_size=3)\n",
    "px.imshow(image)"
   ]
  },
  {
   "cell_type": "code",
   "execution_count": null,
   "metadata": {},
   "outputs": [],
   "source": []
  }
 ],
 "metadata": {
  "kernelspec": {
   "display_name": "visualization-utils-6WfmWXIQ-py3.11",
   "language": "python",
   "name": "python3"
  },
  "language_info": {
   "codemirror_mode": {
    "name": "ipython",
    "version": 3
   },
   "file_extension": ".py",
   "mimetype": "text/x-python",
   "name": "python",
   "nbconvert_exporter": "python",
   "pygments_lexer": "ipython3",
   "version": "3.11.0"
  }
 },
 "nbformat": 4,
 "nbformat_minor": 2
}
